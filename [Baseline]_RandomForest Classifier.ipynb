{
 "cells": [
  {
   "cell_type": "markdown",
   "id": "39bdaf76-9eca-4602-9c90-ffaa03dbf4de",
   "metadata": {},
   "source": [
    "# Import / 라이브러리 호출"
   ]
  },
  {
   "cell_type": "markdown",
   "id": "b099334e-41b7-4e28-bf65-35237e4f6fa5",
   "metadata": {},
   "source": [
    "**이번 대회에서는 train_test_split 함수를 사용하여 모델성능을 검증하는 방법을 사용했습니다.**"
   ]
  },
  {
   "cell_type": "code",
   "execution_count": 1,
   "id": "d847ba9e-92ad-485b-944a-985d1201efd6",
   "metadata": {},
   "outputs": [],
   "source": [
    "import os\n",
    "import random\n",
    "import pandas as pd\n",
    "import numpy as np\n",
    "import seaborn as sns\n",
    "import matplotlib.pyplot as plt\n",
    "\n",
    "from sklearn.model_selection import train_test_split\n",
    "from sklearn.ensemble import RandomForestClassifier\n",
    "from sklearn.metrics import f1_score\n",
    "\n",
    "import warnings\n",
    "warnings.filterwarnings(\"ignore\")"
   ]
  },
  {
   "cell_type": "markdown",
   "id": "387edd92-fee2-4798-8c23-1fc07fb233a1",
   "metadata": {},
   "source": [
    "# 랜덤시드 고정"
   ]
  },
  {
   "cell_type": "markdown",
   "id": "45aae698-4f5a-4ae8-b1d9-0354fbda0ac4",
   "metadata": {},
   "source": [
    "**매번 고정된 결과를 얻기 위해서 사용합니다.  \n",
    "seed를 고정하지 않는다면 같은 코드라도 매번 다른 결과가 나오게됩니다.  \n",
    "항상 동일한 결과를 얻기 위해서 사용합니다.**"
   ]
  },
  {
   "cell_type": "code",
   "execution_count": 2,
   "id": "f283477b-8bba-4eee-a59a-eaf7bdc4f98f",
   "metadata": {},
   "outputs": [],
   "source": [
    "def seed_everything(seed):\n",
    "    random.seed(seed)\n",
    "    os.environ['PYTHONHASHSEED'] = str(seed)\n",
    "    np.random.seed(seed)\n",
    "\n",
    "seed_everything(42) # Seed 고정"
   ]
  },
  {
   "cell_type": "markdown",
   "id": "9d12b8c7-c7da-4c4b-9209-4d40b47acc8c",
   "metadata": {},
   "source": [
    "# train.csv, test.csv 불러오기"
   ]
  },
  {
   "cell_type": "code",
   "execution_count": 3,
   "id": "59e23321-0330-4d9c-9af5-b3842622d075",
   "metadata": {},
   "outputs": [],
   "source": [
    "train = pd.read_csv(\"./train.csv\")\n",
    "test = pd.read_csv(\"./test.csv\")"
   ]
  },
  {
   "cell_type": "code",
   "execution_count": 4,
   "id": "29c661dd-e561-40da-8768-380fcacf4670",
   "metadata": {},
   "outputs": [
    {
     "data": {
      "text/html": [
       "<div>\n",
       "<style scoped>\n",
       "    .dataframe tbody tr th:only-of-type {\n",
       "        vertical-align: middle;\n",
       "    }\n",
       "\n",
       "    .dataframe tbody tr th {\n",
       "        vertical-align: top;\n",
       "    }\n",
       "\n",
       "    .dataframe thead th {\n",
       "        text-align: right;\n",
       "    }\n",
       "</style>\n",
       "<table border=\"1\" class=\"dataframe\">\n",
       "  <thead>\n",
       "    <tr style=\"text-align: right;\">\n",
       "      <th></th>\n",
       "      <th>ID</th>\n",
       "      <th>danceability</th>\n",
       "      <th>energy</th>\n",
       "      <th>key</th>\n",
       "      <th>loudness</th>\n",
       "      <th>speechiness</th>\n",
       "      <th>acousticness</th>\n",
       "      <th>instrumentalness</th>\n",
       "      <th>liveness</th>\n",
       "      <th>valence</th>\n",
       "      <th>tempo</th>\n",
       "      <th>duration</th>\n",
       "      <th>genre</th>\n",
       "    </tr>\n",
       "  </thead>\n",
       "  <tbody>\n",
       "    <tr>\n",
       "      <th>0</th>\n",
       "      <td>TRAIN_00000</td>\n",
       "      <td>0.3341</td>\n",
       "      <td>0.9231</td>\n",
       "      <td>10</td>\n",
       "      <td>0.8540</td>\n",
       "      <td>0.3797</td>\n",
       "      <td>0.008</td>\n",
       "      <td>0.0002</td>\n",
       "      <td>0.7697</td>\n",
       "      <td>0.7902</td>\n",
       "      <td>0.5391</td>\n",
       "      <td>175</td>\n",
       "      <td>trap</td>\n",
       "    </tr>\n",
       "    <tr>\n",
       "      <th>1</th>\n",
       "      <td>TRAIN_00001</td>\n",
       "      <td>0.6344</td>\n",
       "      <td>0.5955</td>\n",
       "      <td>10</td>\n",
       "      <td>0.2826</td>\n",
       "      <td>0.1378</td>\n",
       "      <td>0.000</td>\n",
       "      <td>0.7137</td>\n",
       "      <td>0.1597</td>\n",
       "      <td>0.4162</td>\n",
       "      <td>0.3043</td>\n",
       "      <td>513</td>\n",
       "      <td>techno</td>\n",
       "    </tr>\n",
       "    <tr>\n",
       "      <th>2</th>\n",
       "      <td>TRAIN_00002</td>\n",
       "      <td>0.3983</td>\n",
       "      <td>0.1107</td>\n",
       "      <td>8</td>\n",
       "      <td>0.2459</td>\n",
       "      <td>0.0247</td>\n",
       "      <td>0.774</td>\n",
       "      <td>0.0000</td>\n",
       "      <td>0.5105</td>\n",
       "      <td>0.4291</td>\n",
       "      <td>0.2324</td>\n",
       "      <td>151</td>\n",
       "      <td>Trap Metal</td>\n",
       "    </tr>\n",
       "  </tbody>\n",
       "</table>\n",
       "</div>"
      ],
      "text/plain": [
       "            ID  danceability  energy  key  loudness  speechiness  \\\n",
       "0  TRAIN_00000        0.3341  0.9231   10    0.8540       0.3797   \n",
       "1  TRAIN_00001        0.6344  0.5955   10    0.2826       0.1378   \n",
       "2  TRAIN_00002        0.3983  0.1107    8    0.2459       0.0247   \n",
       "\n",
       "   acousticness  instrumentalness  liveness  valence   tempo  duration  \\\n",
       "0         0.008            0.0002    0.7697   0.7902  0.5391       175   \n",
       "1         0.000            0.7137    0.1597   0.4162  0.3043       513   \n",
       "2         0.774            0.0000    0.5105   0.4291  0.2324       151   \n",
       "\n",
       "        genre  \n",
       "0        trap  \n",
       "1      techno  \n",
       "2  Trap Metal  "
      ]
     },
     "execution_count": 4,
     "metadata": {},
     "output_type": "execute_result"
    }
   ],
   "source": [
    "# train.csv 파일의 데이터를 확인합니다.\n",
    "train.head(3)"
   ]
  },
  {
   "cell_type": "markdown",
   "id": "0fc3b070-617c-4238-b0b7-f88d899a7c7f",
   "metadata": {},
   "source": [
    "# 독립변수(X), 종속변수(y)로 나누기"
   ]
  },
  {
   "cell_type": "markdown",
   "id": "28eda381-1ec4-401a-ad0e-a2875cefe500",
   "metadata": {},
   "source": [
    "**모델을 학습하기 위해서는 독립변수와 종속변수로 나누어야 합니다.  \n",
    "일반적으로 모델에는 정수, 실수형태의 값만 사용할 수 있습니다.  \n",
    "분류 문제일 경우 target(해당 데이터에서는 genre)에 한해 문자열 사용이 가능합니다.  \n",
    "이외의 문자열 데이터인 'ID'는 제거하겠습니다.**"
   ]
  },
  {
   "cell_type": "code",
   "execution_count": 5,
   "id": "ed99ae5b-c803-4578-bee2-3c872a959e87",
   "metadata": {},
   "outputs": [],
   "source": [
    "# X는 독립변수이므로 종속변수를 제거합니다. 또한 target 이외의 문자열 데이터를 제거합니다.\n",
    "X = train.drop([\"ID\", \"genre\"], axis = 1)\n",
    "# y는 종속변수로 값을 설정합니다.\n",
    "y = train[['genre']]\n",
    "\n",
    "# train에서와 마찬가지로 문자열이 포함된 특성은 제거합니다.\n",
    "test = test.drop([\"ID\"], axis = 1)"
   ]
  },
  {
   "cell_type": "markdown",
   "id": "daa1b6eb-3af5-4d62-8065-163000e768e2",
   "metadata": {},
   "source": [
    "**모델의 성능을 중간적으로 점검하기 위해 검증데이터(validation data)를 생성하겠습니다.**"
   ]
  },
  {
   "cell_type": "code",
   "execution_count": 6,
   "id": "aa0d0241-23f6-453a-840a-8207a3b0f1a8",
   "metadata": {},
   "outputs": [],
   "source": [
    "# 학습데이터, 검증데이터 분리\n",
    "X_train, X_valid, y_train, y_valid = train_test_split(X, y, test_size = 0.2)"
   ]
  },
  {
   "cell_type": "markdown",
   "id": "cb56e280-0188-448c-8cad-266b523b2afb",
   "metadata": {
    "tags": []
   },
   "source": [
    "# 모델 정의  \n",
    "**RandomForest는 tree기반 모델로, DecisionTree를 여러 개 생성하여 그들의 평균으로 예측의 성능을 높이는 Ensemble Machine Learning 모델입니다.  \n",
    "RandomForest에 대해 더 자세히 알고싶으시다면 아래의 링크를 참고해주시기 바랍니다.**\n",
    "\n",
    "\n",
    "**[Lv2 모델링 1/2 python 파이썬 랜덤포레스트 개념, 선언](https://dacon.io/competitions/open/235698/talkboard/403632)**"
   ]
  },
  {
   "cell_type": "code",
   "execution_count": 7,
   "id": "531545b1-cde7-4aa4-bd6c-bae776a6c6a6",
   "metadata": {},
   "outputs": [],
   "source": [
    "model = RandomForestClassifier(random_state = 42)"
   ]
  },
  {
   "cell_type": "markdown",
   "id": "16f2797b-8a28-4ed2-89cf-dfbd84b453cc",
   "metadata": {},
   "source": [
    "# 모델 학습"
   ]
  },
  {
   "cell_type": "code",
   "execution_count": 8,
   "id": "e00cf446-bc68-47b4-a305-55f98eef5acc",
   "metadata": {},
   "outputs": [
    {
     "data": {
      "text/plain": [
       "RandomForestClassifier(random_state=42)"
      ]
     },
     "execution_count": 8,
     "metadata": {},
     "output_type": "execute_result"
    }
   ],
   "source": [
    "# 학습데이터를 모델에 입력합니다.\n",
    "model.fit(X_train,y_train)"
   ]
  },
  {
   "cell_type": "markdown",
   "id": "15b8daaf-112b-48c4-824b-da77b3bcb5ab",
   "metadata": {},
   "source": [
    "# 모델 검증  \n",
    "**모델이 어느정도 정답을 맞추는지 검증을 통해 대략적으로 확인할 수 있습니다.  \n",
    "대회 평가 지표인 Macro-F1 Score로 검증을 수행하겠습니다.  \n",
    "모델에 검증데이터를 입력하여 검증 점수를 예측합니다.**"
   ]
  },
  {
   "cell_type": "code",
   "execution_count": 9,
   "id": "b1627fce-c12f-442a-8e50-da0099c609cb",
   "metadata": {},
   "outputs": [
    {
     "name": "stdout",
     "output_type": "stream",
     "text": [
      "현재 Macro F1 Score의 검증 점수는 0.6261751859544912입니다.\n"
     ]
    }
   ],
   "source": [
    "val_pred = model.predict(X_valid)\n",
    "\n",
    "# Macro f1 score을 사용하기 위해 average 인자 값을 \"macro\" 로 설정해줍니다.\n",
    "print(\"현재 Macro F1 Score의 검증 점수는 {}입니다.\".format(f1_score(val_pred, y_valid, average = \"macro\")))"
   ]
  },
  {
   "cell_type": "markdown",
   "id": "cde28d93-6907-423d-a19a-3faea8e7918c",
   "metadata": {},
   "source": [
    "# 예측"
   ]
  },
  {
   "cell_type": "code",
   "execution_count": 10,
   "id": "71e8cecc-d7a2-4e9b-bab8-387d16d31637",
   "metadata": {},
   "outputs": [],
   "source": [
    "# 최종 예측을 하기위해 test값을 입력합니다.\n",
    "pred = model.predict(test)"
   ]
  },
  {
   "cell_type": "markdown",
   "id": "636ad1e0-ca11-4ed6-b8c5-41b4cc4b99f2",
   "metadata": {},
   "source": [
    "# 제출"
   ]
  },
  {
   "cell_type": "code",
   "execution_count": 11,
   "id": "be24dd78-c5de-41fb-8c66-f65db1c62ede",
   "metadata": {},
   "outputs": [],
   "source": [
    "# 제출 파일을 불러옵니다.\n",
    "submission = pd.read_csv(\"./sample_submission.csv\")\n",
    "submission[\"genre\"] = pred"
   ]
  },
  {
   "cell_type": "code",
   "execution_count": 12,
   "id": "c30b73b0-d036-4e3c-9f31-cbc321915337",
   "metadata": {},
   "outputs": [
    {
     "data": {
      "text/html": [
       "<div>\n",
       "<style scoped>\n",
       "    .dataframe tbody tr th:only-of-type {\n",
       "        vertical-align: middle;\n",
       "    }\n",
       "\n",
       "    .dataframe tbody tr th {\n",
       "        vertical-align: top;\n",
       "    }\n",
       "\n",
       "    .dataframe thead th {\n",
       "        text-align: right;\n",
       "    }\n",
       "</style>\n",
       "<table border=\"1\" class=\"dataframe\">\n",
       "  <thead>\n",
       "    <tr style=\"text-align: right;\">\n",
       "      <th></th>\n",
       "      <th>ID</th>\n",
       "      <th>genre</th>\n",
       "    </tr>\n",
       "  </thead>\n",
       "  <tbody>\n",
       "    <tr>\n",
       "      <th>0</th>\n",
       "      <td>TEST_00000</td>\n",
       "      <td>Hiphop</td>\n",
       "    </tr>\n",
       "    <tr>\n",
       "      <th>1</th>\n",
       "      <td>TEST_00001</td>\n",
       "      <td>Dark Trap</td>\n",
       "    </tr>\n",
       "    <tr>\n",
       "      <th>2</th>\n",
       "      <td>TEST_00002</td>\n",
       "      <td>Emo</td>\n",
       "    </tr>\n",
       "    <tr>\n",
       "      <th>3</th>\n",
       "      <td>TEST_00003</td>\n",
       "      <td>techhouse</td>\n",
       "    </tr>\n",
       "    <tr>\n",
       "      <th>4</th>\n",
       "      <td>TEST_00004</td>\n",
       "      <td>Pop</td>\n",
       "    </tr>\n",
       "    <tr>\n",
       "      <th>...</th>\n",
       "      <td>...</td>\n",
       "      <td>...</td>\n",
       "    </tr>\n",
       "    <tr>\n",
       "      <th>16917</th>\n",
       "      <td>TEST_16917</td>\n",
       "      <td>techhouse</td>\n",
       "    </tr>\n",
       "    <tr>\n",
       "      <th>16918</th>\n",
       "      <td>TEST_16918</td>\n",
       "      <td>Hiphop</td>\n",
       "    </tr>\n",
       "    <tr>\n",
       "      <th>16919</th>\n",
       "      <td>TEST_16919</td>\n",
       "      <td>hardstyle</td>\n",
       "    </tr>\n",
       "    <tr>\n",
       "      <th>16920</th>\n",
       "      <td>TEST_16920</td>\n",
       "      <td>psytrance</td>\n",
       "    </tr>\n",
       "    <tr>\n",
       "      <th>16921</th>\n",
       "      <td>TEST_16921</td>\n",
       "      <td>Underground Rap</td>\n",
       "    </tr>\n",
       "  </tbody>\n",
       "</table>\n",
       "<p>16922 rows × 2 columns</p>\n",
       "</div>"
      ],
      "text/plain": [
       "               ID            genre\n",
       "0      TEST_00000           Hiphop\n",
       "1      TEST_00001        Dark Trap\n",
       "2      TEST_00002              Emo\n",
       "3      TEST_00003        techhouse\n",
       "4      TEST_00004              Pop\n",
       "...           ...              ...\n",
       "16917  TEST_16917        techhouse\n",
       "16918  TEST_16918           Hiphop\n",
       "16919  TEST_16919        hardstyle\n",
       "16920  TEST_16920        psytrance\n",
       "16921  TEST_16921  Underground Rap\n",
       "\n",
       "[16922 rows x 2 columns]"
      ]
     },
     "execution_count": 12,
     "metadata": {},
     "output_type": "execute_result"
    }
   ],
   "source": [
    "submission"
   ]
  },
  {
   "cell_type": "code",
   "execution_count": 13,
   "id": "dd28dfe8-5682-4c3d-a76e-44fc8a1b884b",
   "metadata": {},
   "outputs": [],
   "source": [
    "# 해당 파일을 다운로드 받아서 제출해주세요.\n",
    "submission.to_csv(\"./submit.csv\", index = False)"
   ]
  }
 ],
 "metadata": {
  "kernelspec": {
   "display_name": "Python 3 (ipykernel)",
   "language": "python",
   "name": "python3"
  },
  "language_info": {
   "codemirror_mode": {
    "name": "ipython",
    "version": 3
   },
   "file_extension": ".py",
   "mimetype": "text/x-python",
   "name": "python",
   "nbconvert_exporter": "python",
   "pygments_lexer": "ipython3",
   "version": "3.9.12"
  }
 },
 "nbformat": 4,
 "nbformat_minor": 5
}
