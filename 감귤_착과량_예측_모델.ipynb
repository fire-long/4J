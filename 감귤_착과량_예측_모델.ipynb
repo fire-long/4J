{
  "nbformat": 4,
  "nbformat_minor": 0,
  "metadata": {
    "colab": {
      "provenance": [],
      "mount_file_id": "1hdlIW_FPBp8iG0DxdlpigMAyV6ka0RV3",
      "authorship_tag": "ABX9TyMCvtvwvWAS+Qush5VQ8TkO",
      "include_colab_link": true
    },
    "kernelspec": {
      "name": "python3",
      "display_name": "Python 3"
    },
    "language_info": {
      "name": "python"
    }
  },
  "cells": [
    {
      "cell_type": "markdown",
      "metadata": {
        "id": "view-in-github",
        "colab_type": "text"
      },
      "source": [
        "<a href=\"https://colab.research.google.com/github/fire-long/4J/blob/model2/%EA%B0%90%EA%B7%A4_%EC%B0%A9%EA%B3%BC%EB%9F%89_%EC%98%88%EC%B8%A1_%EB%AA%A8%EB%8D%B8.ipynb\" target=\"_parent\"><img src=\"https://colab.research.google.com/assets/colab-badge.svg\" alt=\"Open In Colab\"/></a>"
      ]
    },
    {
      "cell_type": "markdown",
      "source": [
        "# 0. 데이콘 5위 코드 배경\n",
        "\n",
        "- 데이터 탐색 과정에서 새순 feature만 학습해서 제출했는데 정확도가 높아 새순 데이터만 활용(저장양분 축적이 착과량과 밀접한 관계가 있다는 도메인 지식 활용) \n",
        "\n",
        "\n",
        "- 자체 테스트 결과 성능이 좋지 않아 별도의 feature engineering 활용 안함(변화량, 차이, pca, data aggregation 등) \n",
        "\n",
        "\n",
        "- XGBoost & LightBGM: 짧은 대회 기간 효율, 효과를 고려하여 모델 선택, 모든 새순 feature 활용 \n",
        "\n",
        "\n",
        "- TabNet: 위 모델 만으로 만족스러운 성능이 나오지 않아 predict value를 가지고 분석, Gradient Boosting Decision Tree Model 특성상 Interpolation predict 경향이 존재하여 TabNet(Neural Network)를 앙상블하여 해당 경향성 완화, 새순 관련 변수 중 착과량에 강한 영향을 미치는 변수만 사용\n",
        "\n",
        "\n",
        "-> 전반적으로 1. 중요변수확인 > 2. k-fold를 접목한 반복 모델링 > 3. score 측정 과정을 반복하여 모델 생성\n"
      ],
      "metadata": {
        "id": "YdwVgoqfmCYl"
      }
    },
    {
      "cell_type": "markdown",
      "source": [
        "# 1. 데이터 불러오기"
      ],
      "metadata": {
        "id": "evpbh9GCqBI4"
      }
    },
    {
      "cell_type": "code",
      "execution_count": 2,
      "metadata": {
        "colab": {
          "base_uri": "https://localhost:8080/"
        },
        "id": "mII4EUvPmBVB",
        "outputId": "a5dcee41-3b4f-4516-d6c4-11bfaa55c8d1"
      },
      "outputs": [
        {
          "output_type": "stream",
          "name": "stdout",
          "text": [
            "<class 'pandas.core.frame.DataFrame'>\n",
            "RangeIndex: 2207 entries, 0 to 2206\n",
            "Columns: 184 entries, ID to 2022-11-28 엽록소\n",
            "dtypes: float64(182), int64(1), object(1)\n",
            "memory usage: 3.1+ MB\n",
            "None\n",
            "ID                0\n",
            "착과량(int)          0\n",
            "수고(m)             0\n",
            "수관폭1(min)         0\n",
            "수관폭2(max)         0\n",
            "                 ..\n",
            "2022-11-24 엽록소    0\n",
            "2022-11-25 엽록소    0\n",
            "2022-11-26 엽록소    0\n",
            "2022-11-27 엽록소    0\n",
            "2022-11-28 엽록소    0\n",
            "Length: 184, dtype: int64\n",
            "<class 'pandas.core.frame.DataFrame'>\n",
            "RangeIndex: 2208 entries, 0 to 2207\n",
            "Columns: 183 entries, ID to 2022-11-28 엽록소\n",
            "dtypes: float64(182), object(1)\n",
            "memory usage: 3.1+ MB\n",
            "None\n",
            "ID                0\n",
            "수고(m)             0\n",
            "수관폭1(min)         0\n",
            "수관폭2(max)         0\n",
            "수관폭평균             0\n",
            "                 ..\n",
            "2022-11-24 엽록소    0\n",
            "2022-11-25 엽록소    0\n",
            "2022-11-26 엽록소    0\n",
            "2022-11-27 엽록소    0\n",
            "2022-11-28 엽록소    0\n",
            "Length: 183, dtype: int64\n"
          ]
        }
      ],
      "source": [
        "import pandas as pd\n",
        "\n",
        "df_train = pd.read_csv(\"/content/drive/MyDrive/4J DACON/감귤 착과량 예측 AI 경진대회/train.csv\")\n",
        "df_test = pd.read_csv(\"/content/drive/MyDrive/4J DACON/감귤 착과량 예측 AI 경진대회/test.csv\")\n",
        "\n",
        "print(df_train.info())\n",
        "print(df_train.isnull().sum())\n",
        "\n",
        "print(df_test.info())\n",
        "print(df_test.isnull().sum())"
      ]
    },
    {
      "cell_type": "code",
      "source": [
        "labels = df_train[\"착과량(int)\"]\n",
        "feature_columns = df_train.loc[:, \"2022-09-01 새순\":\"2022-11-28 새순\"].columns #새순 열만 불러옴\n",
        "\n",
        "print(\"학습에는 새순 Features 89개를 사용했습니다.\\n\")\n",
        "print(feature_columns)"
      ],
      "metadata": {
        "colab": {
          "base_uri": "https://localhost:8080/"
        },
        "id": "6vWSz1C0slzg",
        "outputId": "6aabd4fc-e97d-4363-b0fd-62b1f947c654"
      },
      "execution_count": 15,
      "outputs": [
        {
          "output_type": "stream",
          "name": "stdout",
          "text": [
            "학습에는 새순 Features 89개를 사용했습니다.\n",
            "\n",
            "Index(['2022-09-01 새순', '2022-09-02 새순', '2022-09-03 새순', '2022-09-04 새순',\n",
            "       '2022-09-05 새순', '2022-09-06 새순', '2022-09-07 새순', '2022-09-08 새순',\n",
            "       '2022-09-09 새순', '2022-09-10 새순', '2022-09-11 새순', '2022-09-12 새순',\n",
            "       '2022-09-13 새순', '2022-09-14 새순', '2022-09-15 새순', '2022-09-16 새순',\n",
            "       '2022-09-17 새순', '2022-09-18 새순', '2022-09-19 새순', '2022-09-20 새순',\n",
            "       '2022-09-21 새순', '2022-09-22 새순', '2022-09-23 새순', '2022-09-24 새순',\n",
            "       '2022-09-25 새순', '2022-09-26 새순', '2022-09-27 새순', '2022-09-28 새순',\n",
            "       '2022-09-29 새순', '2022-09-30 새순', '2022-10-01 새순', '2022-10-02 새순',\n",
            "       '2022-10-03 새순', '2022-10-04 새순', '2022-10-05 새순', '2022-10-06 새순',\n",
            "       '2022-10-07 새순', '2022-10-08 새순', '2022-10-09 새순', '2022-10-10 새순',\n",
            "       '2022-10-11 새순', '2022-10-12 새순', '2022-10-13 새순', '2022-10-14 새순',\n",
            "       '2022-10-15 새순', '2022-10-16 새순', '2022-10-17 새순', '2022-10-18 새순',\n",
            "       '2022-10-19 새순', '2022-10-20 새순', '2022-10-21 새순', '2022-10-22 새순',\n",
            "       '2022-10-23 새순', '2022-10-24 새순', '2022-10-25 새순', '2022-10-26 새순',\n",
            "       '2022-10-27 새순', '2022-10-28 새순', '2022-10-29 새순', '2022-10-30 새순',\n",
            "       '2022-10-31 새순', '2022-11-01 새순', '2022-11-02 새순', '2022-11-03 새순',\n",
            "       '2022-11-04 새순', '2022-11-05 새순', '2022-11-06 새순', '2022-11-07 새순',\n",
            "       '2022-11-08 새순', '2022-11-09 새순', '2022-11-10 새순', '2022-11-11 새순',\n",
            "       '2022-11-12 새순', '2022-11-13 새순', '2022-11-14 새순', '2022-11-15 새순',\n",
            "       '2022-11-16 새순', '2022-11-17 새순', '2022-11-18 새순', '2022-11-19 새순',\n",
            "       '2022-11-20 새순', '2022-11-21 새순', '2022-11-22 새순', '2022-11-23 새순',\n",
            "       '2022-11-24 새순', '2022-11-25 새순', '2022-11-26 새순', '2022-11-27 새순',\n",
            "       '2022-11-28 새순'],\n",
            "      dtype='object')\n"
          ]
        }
      ]
    },
    {
      "cell_type": "markdown",
      "source": [
        "# 2. 모델링"
      ],
      "metadata": {
        "id": "mWOrFrc0yEd5"
      }
    },
    {
      "cell_type": "code",
      "source": [
        "import numpy as np\n",
        "import warnings\n",
        "warnings.filterwarnings('ignore')\n",
        "\n",
        "def NMAE(true, pred):\n",
        "  mae = np.mean(np.abs(true-pred))\n",
        "  score = mae/np.mean(np.abs(true))\n",
        "  return score"
      ],
      "metadata": {
        "id": "Qf-7dinjQ7I5"
      },
      "execution_count": 23,
      "outputs": []
    },
    {
      "cell_type": "markdown",
      "source": [
        "## 2-1. XGBoost"
      ],
      "metadata": {
        "id": "TCiqSLwCyLII"
      }
    },
    {
      "cell_type": "markdown",
      "source": [
        "*참고: https://techblog-history-younghunjo1.tistory.com/142 (oof, k-fold 관련 설명)\n",
        "\n",
        "\n",
        "https://riverzayden.tistory.com/17(xgboost 관련 설명)\n",
        "\n",
        "https://romg2.github.io/mlguide/03_%EB%A8%B8%EC%8B%A0%EB%9F%AC%EB%8B%9D-%EC%99%84%EB%B2%BD%EA%B0%80%EC%9D%B4%EB%93%9C-04.-%EB%B6%84%EB%A5%98-XGBoost/\n",
        "\n",
        "\n",
        "https://joyfuls.tistory.com/63"
      ],
      "metadata": {
        "id": "_yZORWMZtd3_"
      }
    },
    {
      "cell_type": "code",
      "source": [
        "from xgboost.sklearn import XGBRegressor\n",
        "from xgboost import plot_importance\n",
        "from sklearn.model_selection import train_test_split\n",
        "\n",
        "x = df_train.loc[:, \"2022-09-01 새순\":\"2022-11-28 새순\"]\n",
        "y = df_train['착과량(int)']\n",
        "\n",
        "x_train, x_valid, y_train, y_valid = train_test_split(x, y, test_size = 0.3)\n",
        "\n",
        "reg = XGBRegressor(objective = \"reg:squarederror\", n_estimators = 50000, learning_rate = 0.01, subsample = 0.7, colsample_bytree = 0.3, random_state = 42)\n",
        "reg.fit(x_train, y_train)"
      ],
      "metadata": {
        "colab": {
          "base_uri": "https://localhost:8080/"
        },
        "id": "UmoPkb_zPdzW",
        "outputId": "a93546d5-3aff-4396-e6a6-f34e177371e7"
      },
      "execution_count": 26,
      "outputs": [
        {
          "output_type": "execute_result",
          "data": {
            "text/plain": [
              "XGBRegressor(colsample_bytree=0.3, learning_rate=0.01, n_estimators=50000,\n",
              "             objective='reg:squarederror', random_state=42, subsample=0.7)"
            ]
          },
          "metadata": {},
          "execution_count": 26
        }
      ]
    },
    {
      "cell_type": "code",
      "source": [
        "y_pred = reg.predict(x_valid)\n",
        "y_true = y_valid\n",
        "\n",
        "print(\"score: \", NMAE(y_true, y_pred))"
      ],
      "metadata": {
        "colab": {
          "base_uri": "https://localhost:8080/"
        },
        "id": "692kZa24X6V4",
        "outputId": "95a53db9-2cb4-4370-fe11-b49701722e9d"
      },
      "execution_count": 24,
      "outputs": [
        {
          "output_type": "stream",
          "name": "stdout",
          "text": [
            "score:  0.08224748854658102\n"
          ]
        }
      ]
    },
    {
      "cell_type": "markdown",
      "source": [
        "### 변수 중요도"
      ],
      "metadata": {
        "id": "gHh3bkxzhgMb"
      }
    },
    {
      "cell_type": "code",
      "source": [
        "feature_importance_df = pd.DataFrame()\n",
        "feature_importance_df = pd.concat([feature_importance_df,pd.DataFrame(zip(feature_columns, reg.feature_importances_), columns=[\"feature\", \"importance\"])])\n",
        "feature_importance_df = feature_importance_df.groupby(\"feature\").mean().sort_values(\"importance\", ascending=False).reset_index()\n",
        "\n",
        "import seaborn as sns\n",
        "more_important = pd.DataFrame(feature_importance_df.head(10))\n",
        "sns.barplot(data = more_important, x = \"feature\", y = \"importance\", palette = \"husl\")\n",
        "plt.subplots_adjust(wspace = 2)\n",
        "plt.tight_layout()\n",
        "plt.show()"
      ],
      "metadata": {
        "colab": {
          "base_uri": "https://localhost:8080/",
          "height": 297
        },
        "id": "xMsqa_exafMt",
        "outputId": "3c4a5291-4e4a-491e-909f-850ce646e16b"
      },
      "execution_count": 48,
      "outputs": [
        {
          "output_type": "display_data",
          "data": {
            "text/plain": [
              "<Figure size 432x288 with 1 Axes>"
            ],
            "image/png": "[encoded data removed]"
          },
          "metadata": {
            "needs_background": "light"
          }
        }
      ]
    },
    {
      "cell_type": "markdown",
      "source": [
        "## 4-2. LightGBM"
      ],
      "metadata": {
        "id": "B859Pupqyhli"
      }
    },
    {
      "cell_type": "code",
      "source": [
        "from lightgbm import LGBMRegressor\n",
        "\n",
        "lgb = LGBMRegressor(n_estimators = 50000, learning_rate = 0.01, subsample = 0.7, colsample_bytree = 0.3, random_state = 42)\n",
        "lgb.fit(x_train, y_train)"
      ],
      "metadata": {
        "colab": {
          "base_uri": "https://localhost:8080/"
        },
        "id": "f3y4_6JDh9Ex",
        "outputId": "efd35bb9-acdd-4d60-d66d-c79c0ab4cb12"
      },
      "execution_count": 49,
      "outputs": [
        {
          "output_type": "execute_result",
          "data": {
            "text/plain": [
              "LGBMRegressor(colsample_bytree=0.3, learning_rate=0.01, n_estimators=50000,\n",
              "              random_state=42, subsample=0.7)"
            ]
          },
          "metadata": {},
          "execution_count": 49
        }
      ]
    },
    {
      "cell_type": "code",
      "source": [
        "y_pred = lgb.predict(x_valid)\n",
        "y_true = y_valid\n",
        "\n",
        "print(\"score: \", NMAE(y_true, y_pred))"
      ],
      "metadata": {
        "colab": {
          "base_uri": "https://localhost:8080/"
        },
        "id": "xaRO8ERtj2P2",
        "outputId": "64d4ba0d-7237-41a3-f7f9-2d4a7ae189f0"
      },
      "execution_count": 51,
      "outputs": [
        {
          "output_type": "stream",
          "name": "stdout",
          "text": [
            "score:  0.09152027591430514\n"
          ]
        }
      ]
    },
    {
      "cell_type": "markdown",
      "source": [
        "### 변수 중요도"
      ],
      "metadata": {
        "id": "Xgo5e5aayWgR"
      }
    },
    {
      "cell_type": "code",
      "source": [
        "feature_importance_df = pd.DataFrame()\n",
        "feature_importance_df = pd.concat([feature_importance_df,pd.DataFrame(zip(feature_columns, lgb.feature_importances_), columns=[\"feature\", \"importance\"])])\n",
        "feature_importance_df = feature_importance_df.groupby(\"feature\").mean().sort_values(\"importance\", ascending=False).reset_index()\n",
        "\n",
        "more_important = pd.DataFrame(feature_importance_df.head(10))\n",
        "sns.barplot(data = more_important, x = \"feature\", y = \"importance\", palette = \"husl\")\n",
        "plt.subplots_adjust(wspace = 2)\n",
        "plt.tight_layout()\n",
        "plt.show()"
      ],
      "metadata": {
        "colab": {
          "base_uri": "https://localhost:8080/",
          "height": 297
        },
        "id": "uelS2o1timzH",
        "outputId": "ada4fd11-4c2f-43b5-81dd-c4d1863d9675"
      },
      "execution_count": 52,
      "outputs": [
        {
          "output_type": "display_data",
          "data": {
            "text/plain": [
              "<Figure size 432x288 with 1 Axes>"
            ],
            "image/png": "[encoded data removed]"
          },
          "metadata": {
            "needs_background": "light"
          }
        }
      ]
    },
    {
      "cell_type": "markdown",
      "source": [
        "## 4-3. TabNet\n",
        "\n",
        "TabNet은 구조화된 테이블 형식 데이터를 위한 해석 가능한 딥 러닝 아키텍처입니다. 이 아키텍처는 단순한 트리 기반 모델의 해석 편의성과 블랙박스 모델 및 앙상블의 높은 정확성이라는 두 가지 장점을 겸비하고 있습니다. 따라서 TabNet은 금융 자산 가격 예측, 사기/사이버 공격/범죄 감지, 소매 수요 예측, 의료 기록에 근거한 진단, 상품 추천과 같은 광범위한 테이블 형식 데이터 작업과 기타 응용 분야에 적합합니다. (https://cloud.google.com/vertex-ai/docs/models/tabnet/overview?hl=ko)"
      ],
      "metadata": {
        "id": "PGPSnAfEy9A8"
      }
    },
    {
      "cell_type": "code",
      "execution_count": 64,
      "metadata": {
        "id": "31bBc7u6Yy9o",
        "colab": {
          "base_uri": "https://localhost:8080/"
        },
        "outputId": "bb5e6233-0520-4009-9fae-8b6e04e1433c"
      },
      "outputs": [
        {
          "output_type": "stream",
          "name": "stdout",
          "text": [
            "epoch 0  | loss: 369.70227| train_mae: 294.23462| valid_mae: 315.81569|  0:00:02s\n",
            "epoch 1  | loss: 259.75206| train_mae: 342.34311| valid_mae: 362.19872|  0:00:06s\n",
            "epoch 2  | loss: 73.17494| train_mae: 295.88639| valid_mae: 304.51641|  0:00:09s\n",
            "epoch 3  | loss: 51.71096| train_mae: 274.65304| valid_mae: 288.40499|  0:00:12s\n",
            "epoch 4  | loss: 51.6297 | train_mae: 212.65448| valid_mae: 221.72643|  0:00:15s\n",
            "epoch 5  | loss: 53.73107| train_mae: 191.84567| valid_mae: 198.54692|  0:00:18s\n",
            "epoch 6  | loss: 46.61955| train_mae: 143.47753| valid_mae: 149.88402|  0:00:21s\n",
            "epoch 7  | loss: 46.144  | train_mae: 130.37155| valid_mae: 133.03663|  0:00:24s\n",
            "epoch 8  | loss: 50.25433| train_mae: 102.81065| valid_mae: 107.1277|  0:00:27s\n",
            "epoch 9  | loss: 48.36965| train_mae: 76.83462| valid_mae: 76.56702|  0:00:30s\n",
            "epoch 10 | loss: 46.07758| train_mae: 64.73232| valid_mae: 64.81781|  0:00:33s\n",
            "epoch 11 | loss: 45.3136 | train_mae: 49.61958| valid_mae: 52.55755|  0:00:36s\n",
            "epoch 12 | loss: 43.67977| train_mae: 42.03614| valid_mae: 43.70229|  0:00:39s\n",
            "epoch 13 | loss: 43.59859| train_mae: 44.23666| valid_mae: 46.11327|  0:00:42s\n",
            "epoch 14 | loss: 42.75136| train_mae: 43.86363| valid_mae: 47.26692|  0:00:45s\n",
            "epoch 15 | loss: 43.0777 | train_mae: 44.34034| valid_mae: 46.86184|  0:00:48s\n",
            "epoch 16 | loss: 42.79053| train_mae: 47.35956| valid_mae: 52.80816|  0:00:51s\n",
            "epoch 17 | loss: 45.48708| train_mae: 34.58215| valid_mae: 37.42484|  0:00:54s\n",
            "epoch 18 | loss: 41.66301| train_mae: 36.25375| valid_mae: 38.71792|  0:00:58s\n",
            "epoch 19 | loss: 41.31877| train_mae: 41.47015| valid_mae: 42.82945|  0:01:00s\n",
            "Stop training because you reached max_epochs = 20 with best_epoch = 17 and best_valid_mae = 37.42484\n",
            "epoch 0  | loss: 381.62838| train_mae: 325.36218| valid_mae: 317.96459|  0:00:02s\n",
            "epoch 1  | loss: 298.47667| train_mae: 312.37419| valid_mae: 313.35966|  0:00:05s\n",
            "epoch 2  | loss: 133.20407| train_mae: 250.55677| valid_mae: 252.89726|  0:00:09s\n",
            "epoch 3  | loss: 53.67823| train_mae: 253.72519| valid_mae: 251.33505|  0:00:12s\n",
            "epoch 4  | loss: 54.08215| train_mae: 195.64864| valid_mae: 193.66969|  0:00:14s\n",
            "epoch 5  | loss: 53.90246| train_mae: 180.41468| valid_mae: 173.50308|  0:00:17s\n",
            "epoch 6  | loss: 52.85758| train_mae: 150.65363| valid_mae: 148.67207|  0:00:21s\n",
            "epoch 7  | loss: 56.38549| train_mae: 124.45844| valid_mae: 121.72417|  0:00:24s\n",
            "epoch 8  | loss: 50.45455| train_mae: 92.1822 | valid_mae: 92.30762|  0:00:27s\n",
            "epoch 9  | loss: 44.75954| train_mae: 83.96622| valid_mae: 82.06158|  0:00:29s\n",
            "epoch 10 | loss: 50.64402| train_mae: 50.99823| valid_mae: 50.34317|  0:00:33s\n",
            "epoch 11 | loss: 45.68068| train_mae: 48.71215| valid_mae: 48.67878|  0:00:36s\n",
            "epoch 12 | loss: 43.80419| train_mae: 50.36066| valid_mae: 48.91973|  0:00:39s\n",
            "epoch 13 | loss: 47.46131| train_mae: 41.12201| valid_mae: 39.48162|  0:00:42s\n",
            "epoch 14 | loss: 45.75069| train_mae: 43.95741| valid_mae: 42.54832|  0:00:45s\n",
            "epoch 15 | loss: 44.0635 | train_mae: 46.80801| valid_mae: 43.94344|  0:00:48s\n",
            "epoch 16 | loss: 51.23984| train_mae: 49.56299| valid_mae: 47.60508|  0:00:51s\n",
            "epoch 17 | loss: 44.39344| train_mae: 39.978  | valid_mae: 38.49184|  0:00:54s\n",
            "epoch 18 | loss: 46.3795 | train_mae: 41.51805| valid_mae: 41.39702|  0:00:57s\n",
            "epoch 19 | loss: 41.9141 | train_mae: 40.60572| valid_mae: 37.50296|  0:01:00s\n",
            "Stop training because you reached max_epochs = 20 with best_epoch = 19 and best_valid_mae = 37.50296\n",
            "epoch 0  | loss: 378.54149| train_mae: 287.17597| valid_mae: 286.21663|  0:00:02s\n",
            "epoch 1  | loss: 279.60126| train_mae: 335.56373| valid_mae: 333.88492|  0:00:05s\n",
            "epoch 2  | loss: 81.44653| train_mae: 217.54726| valid_mae: 219.69038|  0:00:09s\n",
            "epoch 3  | loss: 53.2059 | train_mae: 276.39849| valid_mae: 273.75641|  0:00:12s\n",
            "epoch 4  | loss: 55.18637| train_mae: 211.91564| valid_mae: 209.80773|  0:00:14s\n",
            "epoch 5  | loss: 53.04188| train_mae: 145.97143| valid_mae: 143.55217|  0:00:17s\n",
            "epoch 6  | loss: 49.9525 | train_mae: 126.58419| valid_mae: 122.70691|  0:00:21s\n",
            "epoch 7  | loss: 49.89787| train_mae: 79.89997| valid_mae: 78.26431|  0:00:24s\n",
            "epoch 8  | loss: 47.48956| train_mae: 90.48834| valid_mae: 89.36677|  0:00:26s\n",
            "epoch 9  | loss: 48.43578| train_mae: 76.82053| valid_mae: 75.50804|  0:00:29s\n",
            "epoch 10 | loss: 45.58606| train_mae: 70.49551| valid_mae: 70.39544|  0:00:32s\n",
            "epoch 11 | loss: 45.85877| train_mae: 63.66949| valid_mae: 63.99308|  0:00:36s\n",
            "epoch 12 | loss: 47.74847| train_mae: 47.63742| valid_mae: 47.09846|  0:00:39s\n",
            "epoch 13 | loss: 47.66301| train_mae: 53.34753| valid_mae: 52.28951|  0:00:42s\n",
            "epoch 14 | loss: 44.47582| train_mae: 55.03314| valid_mae: 57.21299|  0:00:45s\n",
            "epoch 15 | loss: 51.11864| train_mae: 39.98857| valid_mae: 40.17894|  0:00:48s\n",
            "epoch 16 | loss: 50.48764| train_mae: 48.31824| valid_mae: 51.13137|  0:00:51s\n",
            "epoch 17 | loss: 45.39613| train_mae: 53.73504| valid_mae: 52.83302|  0:00:54s\n",
            "epoch 18 | loss: 46.43321| train_mae: 41.0059 | valid_mae: 41.09219|  0:00:57s\n",
            "epoch 19 | loss: 45.72909| train_mae: 41.44154| valid_mae: 42.61611|  0:01:00s\n",
            "Stop training because you reached max_epochs = 20 with best_epoch = 15 and best_valid_mae = 40.17894\n",
            "epoch 0  | loss: 379.41639| train_mae: 327.05764| valid_mae: 317.27186|  0:00:02s\n",
            "epoch 1  | loss: 296.58918| train_mae: 314.41579| valid_mae: 305.1055|  0:00:05s\n",
            "epoch 2  | loss: 113.52737| train_mae: 320.29835| valid_mae: 316.06506|  0:00:08s\n",
            "epoch 3  | loss: 55.96376| train_mae: 281.822 | valid_mae: 278.94366|  0:00:12s\n",
            "epoch 4  | loss: 52.70817| train_mae: 219.39176| valid_mae: 216.37362|  0:00:15s\n",
            "epoch 5  | loss: 53.75453| train_mae: 158.43542| valid_mae: 156.08173|  0:00:17s\n",
            "epoch 6  | loss: 48.76141| train_mae: 140.84284| valid_mae: 141.64124|  0:00:20s\n",
            "epoch 7  | loss: 48.29716| train_mae: 142.60155| valid_mae: 141.03309|  0:00:24s\n",
            "epoch 8  | loss: 45.39724| train_mae: 105.81331| valid_mae: 107.69836|  0:00:27s\n",
            "epoch 9  | loss: 46.2751 | train_mae: 71.34243| valid_mae: 70.8074 |  0:00:30s\n",
            "epoch 10 | loss: 45.60164| train_mae: 75.09557| valid_mae: 73.55   |  0:00:32s\n",
            "epoch 11 | loss: 47.16335| train_mae: 47.06228| valid_mae: 45.8905 |  0:00:36s\n",
            "epoch 12 | loss: 47.76706| train_mae: 50.25166| valid_mae: 52.01551|  0:00:39s\n",
            "epoch 13 | loss: 45.61146| train_mae: 48.37179| valid_mae: 49.04063|  0:00:42s\n",
            "epoch 14 | loss: 47.94921| train_mae: 48.18582| valid_mae: 47.35206|  0:00:45s\n",
            "epoch 15 | loss: 42.36886| train_mae: 51.10709| valid_mae: 51.73327|  0:00:48s\n",
            "epoch 16 | loss: 47.51085| train_mae: 42.85801| valid_mae: 42.62613|  0:00:51s\n",
            "epoch 17 | loss: 42.67175| train_mae: 40.78533| valid_mae: 40.01034|  0:00:54s\n",
            "epoch 18 | loss: 49.20028| train_mae: 42.71131| valid_mae: 43.18636|  0:00:57s\n",
            "epoch 19 | loss: 42.11108| train_mae: 33.93039| valid_mae: 34.22203|  0:01:00s\n",
            "Stop training because you reached max_epochs = 20 with best_epoch = 19 and best_valid_mae = 34.22203\n",
            "epoch 0  | loss: 376.89083| train_mae: 337.23796| valid_mae: 336.42102|  0:00:02s\n",
            "epoch 1  | loss: 284.28914| train_mae: 289.15656| valid_mae: 275.48038|  0:00:05s\n",
            "epoch 2  | loss: 86.65413| train_mae: 302.7612| valid_mae: 303.0949|  0:00:08s\n",
            "epoch 3  | loss: 53.5507 | train_mae: 239.15086| valid_mae: 246.7815|  0:00:12s\n",
            "epoch 4  | loss: 53.36026| train_mae: 209.97704| valid_mae: 211.61522|  0:00:15s\n",
            "epoch 5  | loss: 51.54219| train_mae: 217.83937| valid_mae: 212.0138|  0:00:18s\n",
            "epoch 6  | loss: 52.92656| train_mae: 162.33236| valid_mae: 167.00664|  0:00:20s\n",
            "epoch 7  | loss: 50.50765| train_mae: 137.00819| valid_mae: 139.55792|  0:00:24s\n",
            "epoch 8  | loss: 45.90639| train_mae: 107.49631| valid_mae: 109.56192|  0:00:27s\n",
            "epoch 9  | loss: 45.26134| train_mae: 110.42451| valid_mae: 112.91748|  0:00:30s\n",
            "epoch 10 | loss: 49.24807| train_mae: 63.94183| valid_mae: 64.93144|  0:00:33s\n",
            "epoch 11 | loss: 47.51428| train_mae: 64.59813| valid_mae: 65.92919|  0:00:36s\n",
            "epoch 12 | loss: 44.57774| train_mae: 41.51869| valid_mae: 42.14205|  0:00:39s\n",
            "epoch 13 | loss: 46.47879| train_mae: 46.59505| valid_mae: 46.6822 |  0:00:42s\n",
            "epoch 14 | loss: 42.73225| train_mae: 42.68476| valid_mae: 42.80819|  0:00:45s\n",
            "epoch 15 | loss: 43.43322| train_mae: 51.25667| valid_mae: 52.74821|  0:00:48s\n",
            "epoch 16 | loss: 43.93407| train_mae: 39.28388| valid_mae: 38.73036|  0:00:52s\n",
            "epoch 17 | loss: 44.92344| train_mae: 40.80424| valid_mae: 41.31043|  0:00:55s\n",
            "epoch 18 | loss: 46.32458| train_mae: 58.36464| valid_mae: 56.04203|  0:00:58s\n",
            "epoch 19 | loss: 44.89732| train_mae: 39.52959| valid_mae: 38.81958|  0:01:01s\n",
            "Stop training because you reached max_epochs = 20 with best_epoch = 16 and best_valid_mae = 38.73036\n"
          ]
        }
      ],
      "source": [
        "from pytorch_tabnet.tab_model import TabNetClassifier, TabNetRegressor\n",
        "from pytorch_tabnet.augmentations import RegressionSMOTE\n",
        "from sklearn.model_selection import KFold\n",
        "import torch\n",
        "\n",
        "kfold = KFold(n_splits=5, random_state=42, shuffle=True)\n",
        "oof_nn = np.zeros(len(df_train))\n",
        "pred_nn = np.zeros(len(df_test))\n",
        "\n",
        "\n",
        "feature_columns= [\"2022-09-02 새순\", \"2022-09-07 새순\", \"2022-09-05 새순\", \"2022-09-04 새순\",\n",
        "       \"2022-09-11 새순\", \"2022-09-08 새순\", \"2022-09-16 새순\", \"2022-09-03 새순\",\n",
        "       \"2022-09-10 새순\", \"2022-09-15 새순\", \"2022-09-14 새순\", \"2022-09-01 새순\",\n",
        "       \"2022-09-06 새순\", \"2022-09-09 새순\", \"2022-09-13 새순\", \"2022-09-20 새순\",\n",
        "       \"2022-09-18 새순\", \"2022-09-12 새순\", \"2022-09-17 새순\", \"2022-09-26 새순\",\n",
        "       \"2022-09-19 새순\", \"2022-09-22 새순\", \"2022-10-03 새순\", \"2022-09-24 새순\",\n",
        "       \"2022-09-30 새순\"] # feature_importance top 31\n",
        "\n",
        "for trn_idx, val_idx in kfold.split(df_train):\n",
        "    X_train = df_train.loc[trn_idx, feature_columns].values\n",
        "    y_train = df_train.loc[trn_idx, \"착과량(int)\"].values.reshape(-1, 1)\n",
        "    X_valid = df_train.loc[val_idx, feature_columns].values\n",
        "    y_valid = df_train.loc[val_idx, \"착과량(int)\"].values.reshape(-1, 1)\n",
        "\n",
        "    reg = TabNetRegressor(\n",
        "        n_d=64, # [8, 64]\n",
        "        n_a=64, # [8, 64]\n",
        "        n_steps=10, # [3, 10]\n",
        "        seed=42,\n",
        "        optimizer_fn=torch.optim.Adam,\n",
        "        optimizer_params=dict(lr=1e-2),\n",
        "        scheduler_params={\"step_size\":10, # how to use learning rate scheduler\n",
        "                        \"gamma\":0.9},\n",
        "        scheduler_fn=torch.optim.lr_scheduler.StepLR,\n",
        "        mask_type=\"sparsemax\" # This will be overwritten if using pretrain model\n",
        "    )\n",
        "\n",
        "    reg.fit(\n",
        "        X_train=X_train, y_train=y_train,\n",
        "        eval_set=[(X_train, y_train), (X_valid, y_valid)],\n",
        "        eval_name=[\"train\", \"valid\"],\n",
        "        loss_fn=torch.nn.L1Loss(),\n",
        "        eval_metric=[\"mae\"],\n",
        "        max_epochs=20,\n",
        "        batch_size=64,\n",
        "        patience=50,\n",
        "    )\n",
        "\n",
        "    oof_nn[val_idx] = reg.predict(X_valid).reshape(-1)\n",
        "    pred_nn += reg.predict(df_test[feature_columns].values).reshape(-1) / 5"
      ]
    },
    {
      "cell_type": "code",
      "source": [
        "NMAE(labels, oof_nn)"
      ],
      "metadata": {
        "colab": {
          "base_uri": "https://localhost:8080/"
        },
        "id": "wJNmL-PZzJ9L",
        "outputId": "bd8c8b4d-f7c7-4c3b-b1ef-77c13b841d85"
      },
      "execution_count": 68,
      "outputs": [
        {
          "output_type": "execute_result",
          "data": {
            "text/plain": [
              "0.09258889778127566"
            ]
          },
          "metadata": {},
          "execution_count": 68
        }
      ]
    }
  ]
}